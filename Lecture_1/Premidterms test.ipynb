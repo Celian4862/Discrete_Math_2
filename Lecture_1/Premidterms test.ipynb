{
 "cells": [
  {
   "cell_type": "markdown",
   "metadata": {},
   "source": [
    "$\\forall(x_i, y_i) | (x_i, y_i)$ is even, prove that:\n",
    "\n",
    "$$\\frac{1}{\\Sigma_{i=1} ^n \\frac{x_i ^2}{y_i}}\\leq\\frac{\\Sigma _{i=1} ^n y_i}{(\\Sigma _{i=1} ^n x_i)^2}$$\n",
    "\n",
    "<b>Proof:</b><br>\n",
    "The solution is simply to get the reciprocal of the fractions.\n",
    "\n",
    "(1)\n",
    "\n",
    "$$\\Sigma _{i=1} ^n \\frac{x_i ^2}{y_i}\\times \\frac{1}{\\Sigma_{i=1} ^n \\frac{x_i ^2}{y_i}}\\leq\\frac{\\Sigma _{i=1} ^n y_i}{(\\Sigma _{i=1} ^n x_i)^2}\\times \\Sigma _{i=1} ^n \\frac{x_i ^2}{y_i}$$\n",
    "\n",
    "(2)\n",
    "\n",
    "$$ 1\\leq\\frac{\\Sigma _{i=1} ^n y_i}{(\\Sigma _{i=1} ^n x_i)^2}\\times \\Sigma _{i=1} ^n \\frac{x_i ^2}{y_i} $$\n",
    "\n",
    "(Getting the reciprocal of the right-hand-side fraction is next, making the current RHS fraction result to 1, so there's no point in putting the left-hand-side fraction's reciprocal in the numerator.)<br>\n",
    "\n",
    "(3)\n",
    "\n",
    "$$ \\frac{(\\Sigma _{i=1} ^n x_i)^2}{\\Sigma _{i=1} ^n y_i}\\times 1\\leq\\frac{\\Sigma _{i=1} ^n y_i}{(\\Sigma _{i=1} ^n x_i)^2}\\times\\frac{(\\Sigma _{i=1} ^n x_i)^2}{\\Sigma _{i=1} ^n y_i}\\times\\Sigma _{i=1} ^n \\frac{x_i ^2}{y_i} $$\n",
    "\n",
    "(4)\n",
    "\n",
    "$$ \\frac{(\\Sigma _{i=1} ^n x_i)^2}{\\Sigma _{i=1} ^n y_i}\\leq\\Sigma _{i=1} ^n \\frac{x_i ^2}{y_i} $$\n",
    "\n",
    "(5) In other words...\n",
    "\n",
    "$$ \\Sigma _{i=1} ^n \\frac{x_i ^2}{y_i}\\geq\\frac{(\\Sigma _{i=1} ^n x_i)^2}{\\Sigma _{i=1} ^n y_i} $$"
   ]
  }
 ],
 "metadata": {
  "language_info": {
   "name": "python"
  }
 },
 "nbformat": 4,
 "nbformat_minor": 2
}
