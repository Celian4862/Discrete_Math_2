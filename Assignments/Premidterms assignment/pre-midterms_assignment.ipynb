{
 "cells": [
  {
   "cell_type": "markdown",
   "id": "185db601",
   "metadata": {},
   "source": [
    "# 1.\n",
    "\n",
    "Recall the definition of a rational number, denoted as $\\mathbb{Q}$. Prove that the Euler's number $e=\\Sigma ^{\\infty} _{k=0}\\frac{1}{k!}\\notin \\mathbb{Q}$. A factorial is defined as $k!=(k)(k-1)(k-2)(k-3)...,\\forall k\\in \\mathbb{Z}^+$, note that $0!=1$. Furthermore, a sum notation $\\Sigma ^\\infty _{k=0} k=0+1+2+3+...+...$"
   ]
  },
  {
   "cell_type": "markdown",
   "id": "87c81a4b",
   "metadata": {},
   "source": [
    "### Proof:\n",
    "\n",
    "Suppose $e=\\Sigma ^\\infty _{k=0} \\frac{1}{k!}\\in\\mathbb{Q}$. _[We must deduce a contradiction.]_ Thus, by definition of rational, $e = \\frac{a}{b}$ for some integers $ a $ and $ b $ and $ b \\neq 0 $.\n",
    "\n",
    "$\\Sigma ^\\infty _{k=0} \\frac{1}{k!} = \\frac{a}{b}$"
   ]
  },
  {
   "cell_type": "markdown",
   "id": "b26dd070",
   "metadata": {},
   "source": [
    "# 2.\n",
    "\n",
    "Prove Minkowski's Inequality for sums $\\forall p>1, (a_k, b_k)>0:$\n",
    "$$\\begin{bmatrix}\\Sigma ^n _{k=1}|a_k+b_k|^p\\end{bmatrix}^\\frac{1}{p}\\leq \\begin{bmatrix}\\Sigma^n _{k=1}|a_k|^p\\end{bmatrix}^\\frac{1}{p}+\\begin{bmatrix}\\Sigma^n _{k=1}|b_k|^p\\end{bmatrix}^\\frac{1}{p}$$"
   ]
  },
  {
   "cell_type": "markdown",
   "id": "6736225c",
   "metadata": {},
   "source": [
    "# 3.\n",
    "\n",
    "Prove the triangle inequality $|x+y|\\leq |x|+|y|, \\forall(x,y)\\in\\mathbb{R}$"
   ]
  },
  {
   "cell_type": "markdown",
   "id": "52dba81a",
   "metadata": {},
   "source": [
    "# 4.\n",
    "\n",
    "Prove Sedrakayan's Lemma $\\forall u_i, v_i\\in\\mathbb{R}^+$:\n",
    "$$\\frac{(\\Sigma ^n _{i=1}u_i)^2}{\\Sigma ^n _{i=1}v_i}\\leq\\Sigma ^n _{i=1}\\frac{(u_i)^2}{v_i}$$"
   ]
  }
 ],
 "metadata": {
  "kernelspec": {
   "display_name": "Python 3 (ipykernel)",
   "language": "python",
   "name": "python3"
  },
  "language_info": {
   "codemirror_mode": {
    "name": "ipython",
    "version": 3
   },
   "file_extension": ".py",
   "mimetype": "text/x-python",
   "name": "python",
   "nbconvert_exporter": "python",
   "pygments_lexer": "ipython3",
   "version": "3.11.5"
  }
 },
 "nbformat": 4,
 "nbformat_minor": 5
}
