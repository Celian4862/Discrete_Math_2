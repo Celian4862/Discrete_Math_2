{
 "cells": [
  {
   "cell_type": "markdown",
   "id": "185db601",
   "metadata": {},
   "source": [
    "# 1.\n",
    "\n",
    "Recall the definition of a rational number, denoted as $\\mathbb{Q}$. Prove that the Euler's number $e=\\sum ^{\\infty} _{k=0}\\frac{1}{k!}\\notin \\mathbb{Q}$. A factorial is defined as $k!=(k)(k-1)(k-2)(k-3)...,\\forall k\\in \\mathbb{Z}^+$, note that $0!=1$. Furthermore, a sum notation $\\sum ^\\infty _{k=0} k=0+1+2+3+...+...$"
   ]
  },
  {
   "cell_type": "markdown",
   "id": "87c81a4b",
   "metadata": {},
   "source": [
    "### Proof:\n",
    "\n",
    "Assume that $e$ is rational.\n",
    "\n",
    "There exist coprime integers $m$ and $n$ (let $n\\in \\mathbb{Z}^+$) such that:\n",
    "$$\n",
    "\\frac{m}{n} = e = \\sum ^\\infty _{i=0} \\frac{1}{i!}\n",
    "$$\n",
    "\n",
    "Multiplying both sides by $n!$, note that:\n",
    "$$\n",
    "\\frac{m}{n}n!=n!\\sum ^\\infty _{i=0} \\frac{1}{i!}=\\left(\\frac{n!}{0!}+\\frac{n!}{1!}+\\frac{n!}{2!}+\\cdots+\\frac{n!}{n!}\\right)+\\left(\\frac{n!}{(n+1)!}+\\frac{n!}{(n+2)!}+\\cdots\\right)\n",
    "$$\n",
    "\n",
    "Hence:\n",
    "$$\n",
    "m(n-1)!-\\left(\\frac{n!}{0!}+\\frac{n!}{1!}+\\frac{n!}{2!}+\\cdots+\\frac{n!}{n!}\\right)=\\frac{1}{(n+1)}+\\frac{1}{(n+1)(n+2)}+\\frac{1}{(n+1)(n+2)(n+3)}+\\cdots\n",
    "$$\n",
    "$$\n",
    "\\hspace{6cm}<\\frac{1}{(n+1)}+\\frac{1}{(n+1)(n+1)}+\\frac{1}{(n+1)(n+1)(n+1)}+\\cdots\n",
    "$$\n",
    "$$\n",
    "=\\sum ^\\infty _{i=0}\\left(\\frac{1}{n+1}\\right)^{(i+1)}\n",
    "$$\n",
    "$$\n",
    "=\\frac{\\frac{1}{n+1}}{1-\\frac{1}{n+1}}=\\frac{1}{n}\\leq 1\n",
    "$$\n",
    "\n",
    "Note that the quantity on the left hand side is strictly positive, since it is equal to:\n",
    "$$\n",
    "\\frac{1}{(n+1)}+\\frac{1}{(n+1)(n+2)}+\\frac{1}{(n+1)(n+2)(n+3)}+\\cdots\n",
    "$$\n",
    "...which is strictly positive.\n",
    "\n",
    "Thus,\n",
    "$$\n",
    "m(n-1)!-\\left(\\frac{n!}{0!}+\\frac{n!}{1!}+\\frac{n!}{2!}+\\cdots+\\frac{n!}{n!}\\right)\n",
    "$$\n",
    "must be a strictly positive integer that is less than 1.\n",
    "\n",
    "Because this is a contradiction, $e$ must be irrational."
   ]
  },
  {
   "cell_type": "markdown",
   "id": "b26dd070",
   "metadata": {},
   "source": [
    "# 2.\n",
    "\n",
    "Prove Minkowski's Inequality for sums $\\forall p>1, (a_k, b_k)>0:$\n",
    "$$\\begin{bmatrix}\\sum ^n _{k=1}|a_k+b_k|^p\\end{bmatrix}^\\frac{1}{p}\\leq \\begin{bmatrix}\\sum^n _{k=1}|a_k|^p\\end{bmatrix}^\\frac{1}{p}+\\begin{bmatrix}\\sum^n _{k=1}|b_k|^p\\end{bmatrix}^\\frac{1}{p}$$"
   ]
  },
  {
   "cell_type": "markdown",
   "id": "6736225c",
   "metadata": {},
   "source": [
    "# 3.\n",
    "\n",
    "Prove the triangle inequality $|x+y|\\leq |x|+|y|, \\forall(x,y)\\in\\mathbb{R}$"
   ]
  },
  {
   "cell_type": "markdown",
   "id": "52dba81a",
   "metadata": {},
   "source": [
    "# 4.\n",
    "\n",
    "Prove Sedrakayan's Lemma $\\forall u_i, v_i\\in\\mathbb{R}^+$:\n",
    "$$\\frac{(\\sum ^n _{i=1}u_i)^2}{\\sum ^n _{i=1}v_i}\\leq\\sum ^n _{i=1}\\frac{(u_i)^2}{v_i}$$"
   ]
  }
 ],
 "metadata": {
  "kernelspec": {
   "display_name": "Python 3 (ipykernel)",
   "language": "python",
   "name": "python3"
  },
  "language_info": {
   "codemirror_mode": {
    "name": "ipython",
    "version": 3
   },
   "file_extension": ".py",
   "mimetype": "text/x-python",
   "name": "python",
   "nbconvert_exporter": "python",
   "pygments_lexer": "ipython3",
   "version": "3.11.5"
  }
 },
 "nbformat": 4,
 "nbformat_minor": 5
}
