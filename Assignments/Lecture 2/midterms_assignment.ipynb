{
 "cells": [
  {
   "cell_type": "markdown",
   "metadata": {},
   "source": [
    "Task 1:\n",
    "Consider the following experiment:\n",
    "\n",
    "1. The experiment consists of $n$ identical trials.\n",
    "2. The outcome of each trial falls into one of $k$ classes or cells.\n",
    "3. The probability that the outcome of a single trial falls into cell $i$, is $p_i,i = 1,2,...,k$ and remains the same from trial to trial. Notice that $p_1+p_2+p_3+···+p_k =1.$\n",
    "4. The trials are independent.\n",
    "5. The random variables of interest are $Y_1 , Y_2 , . . . , Y_k$, where $Y_i$ equals the number of trials for which the outcome falls into cell $i$. Notice that $Y_1 +Y_2 +Y_3 +···+Y_k =n$.\n",
    "6. The joint probability distribution $P(y) = \\frac{n!}{y_1!y_2!y_3!...y_n!} P_1^{y_1} P_2^{y_2} P_3^{y_3}....P_n^{y_n}$\n",
    "\n",
    "Question 1: Show that the expected value $E[y] = \\Sigma y \\cdotp P(y) = n \\cdot p_i$"
   ]
  },
  {
   "cell_type": "markdown",
   "metadata": {},
   "source": [
    "#### Step 1:\n",
    "\n",
    "To find the expected value $E[y]$, we use the formula:\n",
    "\n",
    "$$E[y] = \\Sigma y \\cdotp P(y)$$\n",
    "\n",
    "#### Step 2:\n",
    "\n",
    "Given the joint probability distribution $P(y) = \\frac{n!}{y_1!y_2!y_3!...y_n!} P_1^{y_1} P_2^{y_2} P_3^{y_3}....P_n^{y_n}$, we can distribute it into the formula:\n",
    "\n",
    "$$E[y] = \\Sigma y \\cdotp \\frac{n!}{y_1!y_2!y_3!...y_n!} P_1^{y_1} P_2^{y_2} P_3^{y_3}....P_n^{y_n}$$\n",
    "\n",
    "#### Step 3:\n",
    "\n",
    "Given $Y_1 +Y_2 +Y_3 +···+Y_k =n$, and since the trials are independent, we can rewrite the joint probability as:\n",
    "\n",
    "$$E[y] = \\sum (y_1 \\cdot P_1 + y_2 \\cdot P_2 + y_3 \\cdot P_3 + \\ldots + y_n \\cdot P_n)$$\n",
    "$$E[y] = \\sum y_i \\cdot P_i  $$\n",
    "\n",
    "#### Step 4:\n",
    "\n",
    "Since $P_i = p_i$ (probability of outcome falling into cell $i$), we get: \n",
    "\n",
    "$$E[y] = \\sum y_i \\cdot p_i  $$\n",
    "$$E[y] = n \\cdot p_i  $$\n",
    "\n",
    "This proves that the expected value of the random variable $y$ is $n \\cdot p_i $"
   ]
  },
  {
   "cell_type": "markdown",
   "metadata": {},
   "source": [
    "Question 2: Given the following data\n",
    "\\begin{gather}\n",
    "\\begin{bmatrix}\n",
    "\\begin{array}{c|c}\n",
    "Age & Proportion \\\\\n",
    "18-24 & 0.18 \\\\\n",
    "25-34 & 0.23 \\\\\n",
    "35-44 & 0.16 \\\\\n",
    "45-64 & 0.27 \\\\\n",
    "65-100 & 0.16 \\\\\n",
    "\\end{array}\n",
    "\\end{bmatrix}\n",
    "\\end{gather}\n",
    "\n",
    "If 500 adults are sampled  randomly, find the probability rhat the sample contains 100 person between 18 and 24, 200 between, 200 between the ages of 25 and 34, and 200 between the ages of 45 and 64.. What is the expected value for to obtain a person in the 65 and above?"
   ]
  },
  {
   "cell_type": "markdown",
   "metadata": {},
   "source": [
    "Given the proportions provided:\n",
    "- $( p_1 = 0.18 ) $ *(probability of selecting a person aged 18-24)*\n",
    "- $( p_2 = 0.23 ) $ *(probability of selecting a person aged 25-34)*\n",
    "- $( p_3 = 0.16 ) $ *(probability of selecting a person aged 35-44)*\n",
    "- $( p_4 = 0.27 ) $ *(probability of selecting a person aged 45-64)*\n",
    "- $( p_5 = 0.16 ) $ *(probability of selecting a person aged 65-100)*\n",
    "\n",
    "The total number of trials \\( n = 500 \\).\n",
    "\n",
    "If 500 adults are sampled randomly, the probability that the sample contains 100 people between 18 and 24, 200 between 25 and 34, and 200 between 45 and 64 can be calculated using the multinomial probability distribution formula:\n",
    "\n",
    "#### Step 1:\n",
    "\n",
    "Using the multinomial probability distribution formula:\n",
    "$$ P(y_1 = 100, y_2 = 200, y_4 = 200) = \\frac{500!}{100! \\cdot 200! \\cdot 200!} \\cdot (0.18)^{100} \\cdot (0.23)^{200} \\cdot (0.27)^{200} ]$$\n",
    "\n",
    "#### Step 2:\n",
    "\n",
    "The expected value to obtain a person aged 65 and above can be calculated as:\n",
    "$$ E[y_5] = n \\cdot p_5 = 500 \\cdot 0.16 = 80 $$"
   ]
  },
  {
   "cell_type": "markdown",
   "metadata": {},
   "source": [
    "Task 2: Consider the following experiment:\n",
    "\n",
    "1. The experiment consists of a fixed number, $n$, of identical trials.\n",
    "2. Each trial results in one of two outcomes: success, $S$, or failure, $F$.\n",
    "3. The probability of success on a single trial is equal to some value $p$ and remains the same from trial to trial. The probability of a failure is equal to q = $(1 − p)$.\n",
    "4. The trials are independent.\n",
    "5. The random variable of interest is $Y$ , the number of successes observed during the $n$ trials."
   ]
  },
  {
   "cell_type": "markdown",
   "metadata": {},
   "source": [
    "Question 1: From the following steps shown above, derive the probability distribution of the experiment."
   ]
  },
  {
   "cell_type": "markdown",
   "metadata": {},
   "source": [
    "Question 2: Show that the expectation of this probability distribution is $E[y] = \\Sigma y \\cdotp P(y) = np$."
   ]
  },
  {
   "cell_type": "markdown",
   "metadata": {},
   "source": [
    "Question 3: Experience has shown that 30% of all persons afflicted by a certain illness recover. A drug company has developed a new medication. Ten people with the illness were selected at random and received the medication; nine recovered shortly thereafter. Suppose that the medication was absolutely worthless. What is the probability that at least nine of ten receiving the medication will recover?"
   ]
  },
  {
   "cell_type": "markdown",
   "metadata": {},
   "source": [
    "Question 4: Suppose that a lot of 5000 electrical fuses contains 5% defectives. If a sample of 5 fuses is tested, find the probability of observing at least one defective."
   ]
  },
  {
   "cell_type": "markdown",
   "metadata": {},
   "source": [
    "Task 3: Consider a probility distribution of $p(y) = \\frac{\\lambda^y}{y!} e^{-\\lambda}$."
   ]
  },
  {
   "cell_type": "markdown",
   "metadata": {},
   "source": [
    "Question 1: Find a general formula for the expected value of this distribution."
   ]
  },
  {
   "cell_type": "markdown",
   "metadata": {},
   "source": [
    "Question 2: A certain type of tree has seedlings randomly dispersed in a large area, with the mean density of seedlings being approximately five per square yard. If a forester randomly locates ten 1-square-yard sampling regions in the area, find the probability that none of the regions will contain seedlings."
   ]
  }
 ],
 "metadata": {
  "language_info": {
   "name": "python"
  }
 },
 "nbformat": 4,
 "nbformat_minor": 2
}
