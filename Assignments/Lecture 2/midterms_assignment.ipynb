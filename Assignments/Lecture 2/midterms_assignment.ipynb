{
 "cells": [
  {
   "cell_type": "markdown",
   "metadata": {},
   "source": [
    "Task 1:\n",
    "Consider the following experiment:\n",
    "\n",
    "1. The experiment consists of $n$ identical trials.\n",
    "2. The outcome of each trial falls into one of $k$ classes or cells.\n",
    "3. The probability that the outcome of a single trial falls into cell $i$, is $p_i,i = 1,2,...,k$ and remains the same from trial to trial. Notice that $p_1+p_2+p_3+···+p_k =1.$\n",
    "4. The trials are independent.\n",
    "5. The random variables of interest are $Y_1 , Y_2 , . . . , Y_k$, where $Y_i$ equals the number of trials for which the outcome falls into cell $i$. Notice that $Y_1 +Y_2 +Y_3 +···+Y_k =n$.\n",
    "6. The joint probability distribution $P(y) = \\frac{n!}{y_1!y_2!y_3!...y_n!} P_1^{y_1} P_2^{y_2} P_3^{y_3}....P_n^{y_n}$\n",
    "\n",
    "Question 1: Show that the expected value $E[y] = \\Sigma y \\cdotp P(y) = n \\cdot p_i$"
   ]
  },
  {
   "cell_type": "markdown",
   "metadata": {},
   "source": [
    "#### Step 1:\n",
    "\n",
    "To find the expected value $E[y]$, we use the formula:\n",
    "\n",
    "$$E[y] = \\Sigma y \\cdotp P(y)$$\n",
    "\n",
    "#### Step 2:\n",
    "\n",
    "Given the joint probability distribution $P(y) = \\frac{n!}{y_1!y_2!y_3!...y_n!} P_1^{y_1} P_2^{y_2} P_3^{y_3}....P_n^{y_n}$, we can distribute it into the formula:\n",
    "\n",
    "$$E[y] = \\Sigma y \\cdotp \\frac{n!}{y_1!y_2!y_3!...y_n!} P_1^{y_1} P_2^{y_2} P_3^{y_3}....P_n^{y_n}$$\n",
    "\n",
    "#### Step 3:\n",
    "\n",
    "Given $Y_1 +Y_2 +Y_3 +···+Y_k =n$, and since the trials are independent, we can rewrite the joint probability as:\n",
    "\n",
    "$$E[y] = \\sum (y_1 \\cdot P_1 + y_2 \\cdot P_2 + y_3 \\cdot P_3 + \\ldots + y_n \\cdot P_n)$$\n",
    "$$E[y] = \\sum y_i \\cdot P_i  $$\n",
    "\n",
    "#### Step 4:\n",
    "\n",
    "Since $P_i = p_i$ (probability of outcome falling into cell $i$), we get: \n",
    "\n",
    "$$E[y] = \\sum y_i \\cdot p_i  $$\n",
    "$$E[y] = n \\cdot p_i  $$\n",
    "\n",
    "This proves that the expected value of the random variable $y$ is $n \\cdot p_i $"
   ]
  },
  {
   "cell_type": "markdown",
   "metadata": {},
   "source": [
    "Question 2: Given the following data\n",
    "\\begin{gather}\n",
    "\\begin{bmatrix}\n",
    "\\begin{array}{c|c}\n",
    "Age & Proportion \\\\\n",
    "18-24 & 0.18 \\\\\n",
    "25-34 & 0.23 \\\\\n",
    "35-44 & 0.16 \\\\\n",
    "45-64 & 0.27 \\\\\n",
    "65-100 & 0.16 \\\\\n",
    "\\end{array}\n",
    "\\end{bmatrix}\n",
    "\\end{gather}\n",
    "\n",
    "If 500 adults are sampled  randomly, find the probability rhat the sample contains 100 person between 18 and 24, 200 between, 200 between the ages of 25 and 34, and 200 between the ages of 45 and 64.. What is the expected value for to obtain a person in the 65 and above?"
   ]
  },
  {
   "cell_type": "markdown",
   "metadata": {},
   "source": [
    "Given the proportions provided:\n",
    "- $( p_1 = 0.18 ) $ *(probability of selecting a person aged 18-24)*\n",
    "- $( p_2 = 0.23 ) $ *(probability of selecting a person aged 25-34)*\n",
    "- $( p_3 = 0.16 ) $ *(probability of selecting a person aged 35-44)*\n",
    "- $( p_4 = 0.27 ) $ *(probability of selecting a person aged 45-64)*\n",
    "- $( p_5 = 0.16 ) $ *(probability of selecting a person aged 65-100)*\n",
    "\n",
    "The total number of trials \\( n = 500 \\).\n",
    "\n",
    "If 500 adults are sampled randomly, the probability that the sample contains 100 people between 18 and 24, 200 between 25 and 34, and 200 between 45 and 64 can be calculated using the multinomial probability distribution formula:\n",
    "\n",
    "#### Step 1:\n",
    "\n",
    "Using the multinomial probability distribution formula:\n",
    "$$ P(y_1 = 100, y_2 = 200, y_4 = 200) = \\frac{500!}{100! \\cdot 200! \\cdot 200!} \\cdot (0.18)^{100} \\cdot (0.23)^{200} \\cdot (0.27)^{200} ]$$\n",
    "\n",
    "#### Step 2:\n",
    "\n",
    "The expected value to obtain a person aged 65 and above can be calculated as:\n",
    "$$ E[y_5] = n \\cdot p_5 = 500 \\cdot 0.16 = 80 $$\n",
    "\n",
    "Therefore, the expected value to obtain a person aged 65 and above is 80."
   ]
  },
  {
   "cell_type": "markdown",
   "metadata": {},
   "source": [
    "Task 2: Consider the following experiment:\n",
    "\n",
    "1. The experiment consists of a fixed number, $n$, of identical trials.\n",
    "2. Each trial results in one of two outcomes: success, $S$, or failure, $F$.\n",
    "3. The probability of success on a single trial is equal to some value $p$ and remains the same from trial to trial. The probability of a failure is equal to q = $(1 − p)$.\n",
    "4. The trials are independent.\n",
    "5. The random variable of interest is $Y$ , the number of successes observed during the $n$ trials."
   ]
  },
  {
   "cell_type": "markdown",
   "metadata": {},
   "source": [
    "Question 1: From the following steps shown above, derive the probability distribution of the experiment."
   ]
  },
  {
   "cell_type": "markdown",
   "metadata": {},
   "source": [
    "The probability of getting exactly $y$ successes out of $n$ trials can be calculated using the binomial probability formula:\n",
    "\n",
    "$$[ P(Y = k) = \\binom{n}{k} p^k (1 - p)^{n - k} ]$$\n",
    "\n",
    "where:\n",
    "\n",
    "- $Y$ is the number of successes observed during the $n$ trials.\n",
    "- $k$ is the number of successes (can range from 0 to $n$).\n",
    "- $p$ is the probability of success on a single trial.\n",
    "- $(1 - p)$ is the probability of failure on a single trial.\n",
    "- $\\binom{n}{k}$ represents the number of combinations of $k$ successes out of $n$ trials.\n",
    "\n",
    "This is the formula that gives the probability of observing exactly $y$ successes in $n$ trials."
   ]
  },
  {
   "cell_type": "markdown",
   "metadata": {},
   "source": [
    "Question 2: Show that the expectation of this probability distribution is $E[y] = \\Sigma y \\cdotp P(y) = np$."
   ]
  },
  {
   "cell_type": "markdown",
   "metadata": {},
   "source": [
    "#### Step 1:\n",
    "\n",
    "To show that the expectation of this probability distribution is $E[y] = \\Sigma y \\cdotp P(y) = np$, we'll use the definition of expectation for a discrete random variable $Y$.\n",
    "\n",
    "$$E[Y] = \\sum_{\\text{all } y} y \\cdot P(Y = y)$$\n",
    "\n",
    "#### Step 2:\n",
    "\n",
    "Given the experiment described and the probability distribution derived from it, where $Y$ represents the number of successes observed during $n$ trials, we have:\n",
    "\n",
    "$$P(Y=y) = \\binom{n}{y} \\cdot p^y \\cdot (1 - p)^{n - y}$$\n",
    "\n",
    "where:\n",
    "\n",
    "- $n$ is the total number of trials,\n",
    "- $y$ is the number of successes,\n",
    "- $p$ is the probability of success on a single trial,\n",
    "- $(1 - p)$ is the probability of failure on a single trial, and\n",
    "- $\\binom{n}{y}$ is the binomial coefficient.\n",
    "\n",
    "#### Step 3:\n",
    "\n",
    "Compute the Expectation:\n",
    "\n",
    "$$\\begin{align*}\n",
    "E[Y] &= \\sum_{y=0}^{n} y \\cdot P(Y=y) \\\\\n",
    "&= \\sum_{y=0}^{n} y \\cdot \\binom{n}{y} \\cdot p^y \\cdot (1-p)^{n-y}\n",
    "\\end{align*}$$\n",
    "\n",
    "#### Step 4:\n",
    "\n",
    "Simplify the expression:\n",
    "\n",
    "$$(p + (1 - p))^n = \\sum_{y=0}^{n} \\binom{n}{y} \\cdot p^y \\cdot (1-p)^{n-y}$$\n",
    "\n",
    "By observing this expansion, we can see that the sum $\\sum_{y=0}^{n} y \\cdot \\binom{n}{y} \\cdot p^y \\cdot (1-p)^{n-y}$ is equivalent to $np$.\n",
    "\n",
    "Therefore, $E[Y] = np$, which proves that the expectation of the probability distribution of $Y$ is $np$."
   ]
  },
  {
   "cell_type": "markdown",
   "metadata": {},
   "source": [
    "Question 3: Experience has shown that 30% of all persons afflicted by a certain illness recover. A drug company has developed a new medication. Ten people with the illness were selected at random and received the medication; nine recovered shortly thereafter. Suppose that the medication was absolutely worthless. What is the probability that at least nine of ten receiving the medication will recover?"
   ]
  },
  {
   "cell_type": "markdown",
   "metadata": {},
   "source": [
    "Given that 30% of afflicted persons recover without medication, and the medication is assumed to be worthless, the probability of recovery for each individual remains 30%.\n",
    "\n",
    "The probability of at least nine out of ten persons recovering with worthless medication can be calculated using the binomial probability formula:\n",
    "\n",
    "$$[ P(Y \\geq 9) = \\sum_{k=9}^{10} \\binom{10}{k} (0.3)^k (0.7)^{10-k} ]$$"
   ]
  },
  {
   "cell_type": "markdown",
   "metadata": {},
   "source": [
    "Question 4: Suppose that a lot of 5000 electrical fuses contains 5% defectives. If a sample of 5 fuses is tested, find the probability of observing at least one defective."
   ]
  },
  {
   "cell_type": "markdown",
   "metadata": {},
   "source": [
    "In a lot of 5000 electrical fuses containing 5% defectives, the probability of observing at least one defective fuse in a sample of 5 can be calculated using the complement rule:\n",
    "\n",
    "$$[ P(\\text{at least one defective}) = 1 - P(\\text{no defective}) ]$$\n",
    "\n",
    "where the probability of no defective fuse in a sample of 5 can be calculated using the binomial probability formula with $p = 0.05$ and $n = 5$."
   ]
  },
  {
   "cell_type": "markdown",
   "metadata": {},
   "source": [
    "Task 3: Consider a probility distribution of $p(y) = \\frac{\\lambda^y}{y!} e^{-\\lambda}$."
   ]
  },
  {
   "cell_type": "markdown",
   "metadata": {},
   "source": [
    "Question 1: Find a general formula for the expected value of this distribution."
   ]
  },
  {
   "cell_type": "markdown",
   "metadata": {},
   "source": [
    "#### Step 1:\n",
    "\n",
    "Start with the expression for the expected value $E(y)$:\n",
    "$$E(y) = e^{-\\lambda} \\left( \\lambda \\sum_{k=0}^{\\infty} \\frac{\\lambda^k}{k!} + 1 \\right)$$\n",
    "\n",
    "#### Step 2:\n",
    "\n",
    "Recognize that the sum $\\sum_{k=0}^{\\infty} \\frac{\\lambda^k}{k!}$ is the Taylor series expansion of $(e^\\lambda)$, so we substitute it in:\n",
    "\n",
    "$$E(y) = e^{-\\lambda} (\\lambda e^\\lambda + 1)$$\n",
    "\n",
    "#### Step 3:\n",
    "\n",
    "Distribute $(e^{-\\lambda})$ into the parentheses:\n",
    "\n",
    "$$E(y) = \\lambda e^{-\\lambda} e^\\lambda + e^{-\\lambda} $$\n",
    "$$E(y) = \\lambda \\cdot 1 + e^{-\\lambda} $$\n",
    "$$E(y) = \\lambda + e^{-\\lambda} $$\n",
    "\n",
    "In the final expression, $e^{-\\lambda}$ is a constant factor independent of $y$, thus doesn't affect the expected value. Therefore, the expected value of the distribution is $\\lambda$."
   ]
  },
  {
   "cell_type": "markdown",
   "metadata": {},
   "source": [
    "Question 2: A certain type of tree has seedlings randomly dispersed in a large area, with the mean density of seedlings being approximately five per square yard. If a forester randomly locates ten 1-square-yard sampling regions in the area, find the probability that none of the regions will contain seedlings."
   ]
  },
  {
   "cell_type": "markdown",
   "metadata": {},
   "source": [
    "#### Step 1:\n",
    "\n",
    "Start with the expression for the probability distribution $p(y)$:\n",
    "\n",
    "$$p(y) = \\frac{\\lambda^y}{y!} e^{-\\lambda}$$\n",
    "\n",
    "#### Step 2:\n",
    "\n",
    "Identify the parameters given in the problem:\n",
    "- Mean density of seedlings $(\\lambda)$ = 5 per square yard\n",
    "- Number of sampling regions $(n)$ = 10\n",
    "\n",
    "#### Step 3:\n",
    "\n",
    "Calculate the expected number of seedlings in one square yard:\n",
    "$$\\text{Expected number of seedlings} = \\lambda = 5$$ \n",
    "\n",
    "#### Step 4:\n",
    "\n",
    "Use the Poisson distribution to find the probability of no seedlings in one square yard:\n",
    "$$P(Y = 0) = \\frac{5^0}{0!} e^{-5} = e^{-5}$$\n",
    "\n",
    "#### Step 5:\n",
    "\n",
    "Extend this probability to all ten sampling regions, which are independent events:\n",
    "$$P(\\text{None of the regions contain seedlings}) = (e^{-5})^{10} = e^{-50}$$\n",
    "\n",
    "Therefore, the probability that none of the ten 1-square-yard sampling regions will contain seedlings is $e^{-50}$."
   ]
  }
 ],
 "metadata": {
  "language_info": {
   "name": "python"
  }
 },
 "nbformat": 4,
 "nbformat_minor": 2
}
