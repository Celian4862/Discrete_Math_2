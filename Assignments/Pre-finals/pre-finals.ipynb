{
 "cells": [
  {
   "cell_type": "markdown",
   "metadata": {},
   "source": [
    "1. Using Python Library create generate an example of each of the topics discussed in this jupyter notebook.\n",
    "2. Provide an explanation of each generated graph.\n",
    "3. Push the results to your github account."
   ]
  }
 ],
 "metadata": {
  "language_info": {
   "name": "python"
  }
 },
 "nbformat": 4,
 "nbformat_minor": 2
}
