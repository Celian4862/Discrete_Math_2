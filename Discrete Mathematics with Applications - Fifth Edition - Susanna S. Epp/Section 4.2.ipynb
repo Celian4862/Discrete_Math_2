{
 "cells": [
  {
   "cell_type": "markdown",
   "metadata": {},
   "source": [
    "# 1. For every integer $n$, if $n$ is odd, then $3n+5$ is even.\n",
    "\n",
    "### Proof:\n",
    "Suppose $n=2k+1$ for some integer k.\n",
    "\n",
    "Then, $3n+5 = 3(2k+1)+5$ (by substitution).\n",
    "\n",
    "$=6k+3+5$\n",
    "\n",
    "$=6k+8$\n",
    "\n",
    "$=2(3k+4)$ (by factoring out).\n",
    "\n",
    "Let $t=3k+4$. Then, $t$ is an integer because k is an integer, and the sums and products of integers are integers.\n",
    "\n",
    "$2(3k+4)=2t$ (by substitution).\n",
    "\n",
    "<br>\n",
    "\n",
    "Thus, $3n+5$ is even by definition of even."
   ]
  },
  {
   "cell_type": "markdown",
   "metadata": {},
   "source": [
    "# 2. For every integer $m$, if $m$ is even, then $3m+5$ is odd.\n",
    "\n",
    "### Proof:\n",
    "\n",
    "Suppose $m=2r$ for some integer $r$.\n",
    "\n",
    "Then, $3m+5=3(2r)+5$ (by substitution).\n",
    "\n",
    "$3(2r)+5=6r+5$\n",
    "\n",
    "$6r+5=6r+4+1$\n",
    "\n",
    "$6r+4+1=2(3r+2) + 1$ (by factoring out).\n",
    "\n",
    "Let $k=3r+2$. Then, $k$ is an integer because $r$ is an integer, and because the sums and products of integers are integers.\n",
    "\n",
    "So, $2(3r+2)+1=2k+1$ (by substitution).\n",
    "\n",
    "<br>\n",
    "\n",
    "Hence, $3m+5$ is odd by definition of odd."
   ]
  },
  {
   "cell_type": "markdown",
   "metadata": {},
   "source": [
    "# 3. For every integer $n$, $2n-1$ is odd.\n",
    "\n",
    "### Proof:\n",
    "\n",
    "$2n-1=2n+1-2$\n",
    "\n",
    "$2n+1-2=2n-2+1$ (by the commutative law).\n",
    "\n",
    "$2n-2+1=2(n-1)+1$ (by factoring out).\n",
    "\n",
    "Let $k=n-1$. Thus, $k$ is an integer because $n$ is an integer, and the differences of integers are integers.\n",
    "\n",
    "So, $2(n-1)+1=2k+1$ (by substitution).\n",
    "\n",
    "<br>\n",
    "\n",
    "Hence, $2n-1$ is odd by definition of odd."
   ]
  },
  {
   "cell_type": "markdown",
   "metadata": {},
   "source": [
    "# 4. <b>Theorem 4.2.2:</b> The difference of any even integer minus any odd integer is odd.\n",
    "\n",
    "### Proof:\n",
    "\n",
    "Suppose $a$ is any even integer and $b$ is any odd integer. [We must show that $a-b$ is odd.] By definition, $a=2r$ for some integer $r$, and $b=2s+1$ for some integer $s$. By substitution:\n",
    "\n",
    "$$a-b=2r-2s+1$$\n",
    "\n",
    "$=2(r-s)+1$ (by factoring out)\n",
    "\n",
    "Let $k=r-s$. Thus, $k$ is an integer because the differences of integers are integers.\n",
    "\n",
    "$2(r-s)+1=2k+1$ (by substitution)\n",
    "\n",
    "<br>\n",
    "\n",
    "Hence, $a-b$ is odd."
   ]
  },
  {
   "cell_type": "markdown",
   "metadata": {},
   "source": [
    "# 5. If $a$ and $b$ are any odd integers, then $a^2+b^2$ is even.\n",
    "\n",
    "### Proof:\n",
    "\n",
    "By definition of odd, $a=2r+1$ for some integer $r$, and $b=2s+1$ for some reason integer $s$.\n",
    "\n",
    "$a^2+b^2=(2r+1)^2+(2s+1)^2$ (by substitution)\n",
    "\n",
    "$ = 4r^2 + 4r + 1 + 4s^2 + 4s + 1$ (by factorisation)\n",
    "\n",
    "$ = 4r^2 + 4s^2 + 4r + 4s + 2$\n",
    "\n",
    "$ = 2 (2r^2 + 2s^2 + 2r + 2s + 1)$ (by factoring out)\n",
    "\n",
    "Let $k = 2r^2 + 2s^2 + 2r + 2s + 1$. Thus, $k$ is an integer because the sums and products of integers are integers.\n",
    "\n",
    "So, $2 (2r^2 + 2s^2 + 2r + 2s + 1) = 2k$.\n",
    "\n",
    "<br>\n",
    "\n",
    "Hence, $a^2 + b^2$ is even."
   ]
  },
  {
   "cell_type": "markdown",
   "metadata": {},
   "source": [
    "# 6. If $k$ is any odd integer and $m$ is any even integer, then $k^2 + m^2$ is odd.\n",
    "\n",
    "### Proof:\n",
    "\n",
    "By definition of odd, $k = 2r + 1$ for some integer r, and by definition of even, $m = 2s$ for some integer s. So, by substitution:\n",
    "\n",
    "$$k^2 + m^2 = (2r + 1)^2 + (2s)^2$$\n",
    "\n",
    "[We must show that $(2r + 1)^2 + (2s)^2$ is odd.]\n",
    "\n",
    "$ = 4r^2 + 2r + 1 + 4s^2$\n",
    "\n",
    "$ = 4r^2 + 4s^2 + 2r + 1$\n",
    "\n",
    "$ = 2 (2r^2 + 2s^2 + r) + 1$ (by factoring out)\n",
    "\n",
    "Let $t = 2r^2 + 2s^2 + r$. Thus, $t$ is an integer because the sums and products of integers are integers.\n",
    "\n",
    "So,\n",
    "\n",
    "$$2 (2r^2 + 2s^2 + r) + 1 = 2t + 1$$\n",
    "\n",
    "Hence, $k^2 + m^2$ is odd by definition of odd."
   ]
  },
  {
   "cell_type": "markdown",
   "metadata": {},
   "source": [
    "# 7. The difference between the squares of any two consecutive integers is odd.\n",
    "\n",
    "### Proof:\n",
    "\n",
    "Suppose $a$ is any integer. [We must show that $ (a - 1) ^ 2 - a ^ 2 $ is odd.]\n",
    "\n",
    "$$ (a - 1) ^ 2 - a ^ 2 = a ^ 2 - 2a + 1 - a ^ 2 $$\n",
    "\n",
    "$$ = a ^ 2 - a ^ 2 - 2a + 1 $$\n",
    "\n",
    "$$ = - 2a + 1 $$\n",
    "\n",
    "$$ = 2 (-a) + 1 $$\n",
    "\n",
    "Let $ k = -a $. Thus, $k$ is an integer because $a$ is an integer, and products of integers are integers. [$ (-1) * a = -a $]\n",
    "\n",
    "So, by substitution:\n",
    "\n",
    "$$ 2 (-a) + 1 = 2k + 1 $$\n",
    "\n",
    "Hence, $ (a - 1) ^ 2 - a ^ 2 $ is odd by definition of odd."
   ]
  },
  {
   "cell_type": "markdown",
   "metadata": {},
   "source": [
    "# 8. For any integers $m$ and $n$, if $m$ is even and $n$ is odd, then $ 5m + 3n $ is odd.\n",
    "\n",
    "### Proof:\n",
    "\n",
    "By definition of even, $ m = 2r $ for some integer $ r $, and by definition of odd, $ n = 2s + 1 $ for some integer $ s $. [We must show that $ 5m + 3n $ is odd.] By substitution:\n",
    "\n",
    "$$ 5m + 3n = 5 (2r) + 3 (2s + 1) $$\n",
    "\n",
    "By algebra:\n",
    "\n",
    "$$ = 10r + 6s + 1 $$\n",
    "\n",
    "By factoring out:\n",
    "\n",
    "$$ = 2 (5r + 3s) + 1 $$\n",
    "\n",
    "Let $ k = 5r + 3s $. Thus, $k$ is an integer because the sums and products of integers are integers.\n",
    "\n",
    "So, by substitution:\n",
    "\n",
    "$$ 2 (5r + 3s) + 1 = 2k + 1 $$\n",
    "\n",
    "Hence, $ 5m + 3n $ is odd by definition of odd."
   ]
  },
  {
   "cell_type": "markdown",
   "metadata": {},
   "source": [
    "# 9. If an integer greater than 4 is a perfect square, then the immediately preceding integer is not prime."
   ]
  }
 ],
 "metadata": {
  "language_info": {
   "name": "python"
  }
 },
 "nbformat": 4,
 "nbformat_minor": 2
}
